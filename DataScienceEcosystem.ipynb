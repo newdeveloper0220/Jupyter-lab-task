{
 "cells": [
  {
   "cell_type": "markdown",
   "id": "6afe15b6-77c2-42f4-aab4-d91a20efcfc0",
   "metadata": {},
   "source": [
    "# Data Science Tools and Ecosystem"
   ]
  },
  {
   "cell_type": "markdown",
   "id": "4fe3a0a9-a3d7-45ba-a6dd-95665ac00693",
   "metadata": {},
   "source": [
    "## In this notebook, Data Science Tools and Ecosystem are summarized."
   ]
  },
  {
   "cell_type": "markdown",
   "id": "3b6f75f9-8030-4019-90eb-ef6049c3cd97",
   "metadata": {},
   "source": [
    "### Objectives:"
   ]
  },
  {
   "cell_type": "markdown",
   "id": "332f0242-865b-4503-83ad-b6563ff6e6c3",
   "metadata": {},
   "source": [
    "- list of the popular languages that Data Scientists use:\n",
    "- some of the commonly used libraries by Data Scientists:\n",
    "- examples in evaluating arithmatic expressions using python"
   ]
  },
  {
   "cell_type": "markdown",
   "id": "9eba480f-0cee-4dd2-a46a-6284c0b72627",
   "metadata": {},
   "source": [
    "### Some of the popular languages that Data Scientists use are:"
   ]
  },
  {
   "cell_type": "markdown",
   "id": "a2acf4ec-5c6e-44fd-8c88-c844bcb79095",
   "metadata": {},
   "source": [
    "1. python\n",
    "2. R\n",
    "3. SQL\n"
   ]
  },
  {
   "cell_type": "markdown",
   "id": "3b841131-6e7f-4708-9d7d-8951abe9c5fa",
   "metadata": {},
   "source": [
    "### Some of the commonly used libraries used by Data Scientists include:"
   ]
  },
  {
   "cell_type": "markdown",
   "id": "f80c7e4b-60d9-4966-9bd1-210e181877a0",
   "metadata": {},
   "source": [
    "1. NumPy\n",
    "2. Pandas\n",
    "3. sickit-learn"
   ]
  },
  {
   "cell_type": "markdown",
   "id": "82c1b77b-ccf3-45fc-8f99-3b3c663e3fe8",
   "metadata": {},
   "source": [
    "| Data Science Tools |\n",
    "|--------------------|\n",
    "|Jupyter Notebook/JupyterLab|\n",
    "|RStudio|\n",
    "|Apache Zeppelin|"
   ]
  },
  {
   "cell_type": "markdown",
   "id": "620210d8-2eb2-456f-bdcc-8ae79331a3bc",
   "metadata": {},
   "source": [
    "### Below are a few examples of evaluating arithmetic expressions in Python"
   ]
  },
  {
   "cell_type": "code",
   "execution_count": 2,
   "id": "15ed4403-b495-4c78-9463-f59def3a800a",
   "metadata": {},
   "outputs": [
    {
     "data": {
      "text/plain": [
       "17"
      ]
     },
     "execution_count": 2,
     "metadata": {},
     "output_type": "execute_result"
    }
   ],
   "source": [
    "### This a simple arithmetic expression to mutiply then add integers\n",
    "(3*4)+5"
   ]
  },
  {
   "cell_type": "code",
   "execution_count": 3,
   "id": "21cbf80a-eb71-4b3e-ab75-ae427ac53277",
   "metadata": {},
   "outputs": [
    {
     "data": {
      "text/plain": [
       "3.3333333333333335"
      ]
     },
     "execution_count": 3,
     "metadata": {},
     "output_type": "execute_result"
    }
   ],
   "source": [
    "### This will convert 200 minutes to hours by diving by 60\n",
    "200/60"
   ]
  },
  {
   "cell_type": "code",
   "execution_count": null,
   "id": "e37356f8-9158-46f2-bbf8-74e39f682b6c",
   "metadata": {},
   "outputs": [],
   "source": [
    "xxx"
   ]
  },
  {
   "cell_type": "markdown",
   "id": "a69e168b-c25c-4ca7-966d-b94574a93e14",
   "metadata": {},
   "source": [
    "## Author"
   ]
  },
  {
   "cell_type": "raw",
   "id": "4e4a29ef-d1b0-4dd9-a9e0-a8af8ee0cbcc",
   "metadata": {},
   "source": [
    "Yazeed samir."
   ]
  }
 ],
 "metadata": {
  "kernelspec": {
   "display_name": "Python 3 (ipykernel)",
   "language": "python",
   "name": "python3"
  },
  "language_info": {
   "codemirror_mode": {
    "name": "ipython",
    "version": 3
   },
   "file_extension": ".py",
   "mimetype": "text/x-python",
   "name": "python",
   "nbconvert_exporter": "python",
   "pygments_lexer": "ipython3",
   "version": "3.10.6"
  }
 },
 "nbformat": 4,
 "nbformat_minor": 5
}
